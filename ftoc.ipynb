{
  "nbformat": 4,
  "nbformat_minor": 0,
  "metadata": {
    "colab": {
      "provenance": [],
      "authorship_tag": "ABX9TyNJ/X7GvJCwgg/9l2ZYhrE+",
      "include_colab_link": true
    },
    "kernelspec": {
      "name": "python3",
      "display_name": "Python 3"
    },
    "language_info": {
      "name": "python"
    }
  },
  "cells": [
    {
      "cell_type": "markdown",
      "metadata": {
        "id": "view-in-github",
        "colab_type": "text"
      },
      "source": [
        "<a href=\"https://colab.research.google.com/github/nkbugalia/LearnAI/blob/main/ftoc.ipynb\" target=\"_parent\"><img src=\"https://colab.research.google.com/assets/colab-badge.svg\" alt=\"Open In Colab\"/></a>"
      ]
    },
    {
      "cell_type": "code",
      "source": [
        "# simple python program to convert fahrenheit to celcius\n",
        "\n",
        "def fahrenheit_to_celsius(fahrenheit):\n",
        "  \"\"\"Converts Fahrenheit to Celsius.\"\"\"\n",
        "  celsius = (fahrenheit - 32) * 5/9\n",
        "  return celsius\n",
        "\n",
        "# Get Fahrenheit temperature from user input\n",
        "try:\n",
        "  fahrenheit_temp = float(input(\"Enter temperature in Fahrenheit: \"))\n",
        "  celsius_temp = fahrenheit_to_celsius(fahrenheit_temp)\n",
        "  print(f\"{fahrenheit_temp}°F is equal to {celsius_temp}°C\")\n",
        "except ValueError:\n",
        "  print(\"Invalid input. Please enter a numeric value for temperature.\")"
      ],
      "metadata": {
        "colab": {
          "base_uri": "https://localhost:8080/"
        },
        "id": "Fy2-FntouFT0",
        "outputId": "cc38d3e7-7b92-4a60-ca83-14240fdd17f5"
      },
      "execution_count": 7,
      "outputs": [
        {
          "output_type": "stream",
          "name": "stdout",
          "text": [
            "Enter temperature in Fahrenheit: 113\n",
            "113.0°F is equal to 45.0°C\n"
          ]
        }
      ]
    }
  ]
}