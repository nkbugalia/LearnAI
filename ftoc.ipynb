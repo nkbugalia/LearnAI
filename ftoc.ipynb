{
  "nbformat": 4,
  "nbformat_minor": 0,
  "metadata": {
    "colab": {
      "provenance": [],
      "authorship_tag": "ABX9TyN2fftFG7xt8qXahNYdWIex",
      "include_colab_link": true
    },
    "kernelspec": {
      "name": "python3",
      "display_name": "Python 3"
    },
    "language_info": {
      "name": "python"
    }
  },
  "cells": [
    {
      "cell_type": "markdown",
      "metadata": {
        "id": "view-in-github",
        "colab_type": "text"
      },
      "source": [
        "<a href=\"https://colab.research.google.com/github/nkbugalia/LearnAI/blob/main/ftoc.ipynb\" target=\"_parent\"><img src=\"https://colab.research.google.com/assets/colab-badge.svg\" alt=\"Open In Colab\"/></a>"
      ]
    },
    {
      "cell_type": "code",
      "source": [
        "# simple python program to convert fahrenheit to celcius\n",
        "\n",
        "def f_to_c(temp_f):\n",
        "  \"\"\"Converts Fahrenheit to Celsius.\"\"\"\n",
        "  temp_c = (temp_f - 32) * 5/9\n",
        "  return temp_c\n",
        "\n",
        "# Get Fahrenheit temperature from user input\n",
        "try:\n",
        "  fahrenheit_temp = float(input(\"Enter temperature in Fahrenheit: \"))\n",
        "  celsius_temp = f_to_c(fahrenheit_temp)\n",
        "  print(f\"{fahrenheit_temp}°F is equal to {celsius_temp}°C\")\n",
        "except ValueError:\n",
        "  print(\"Invalid input. Please enter a numeric value for temperature.\")"
      ],
      "metadata": {
        "colab": {
          "base_uri": "https://localhost:8080/"
        },
        "id": "Fy2-FntouFT0",
        "outputId": "08a068db-9e21-4b3f-d0eb-4d4e270c869b"
      },
      "execution_count": 4,
      "outputs": [
        {
          "output_type": "stream",
          "name": "stdout",
          "text": [
            "Enter temperature in Fahrenheit: 106\n",
            "106.0°F is equal to 41.111111111111114°C\n"
          ]
        }
      ]
    }
  ]
}