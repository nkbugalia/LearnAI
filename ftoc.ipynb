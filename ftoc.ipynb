{
  "nbformat": 4,
  "nbformat_minor": 0,
  "metadata": {
    "colab": {
      "provenance": [],
      "authorship_tag": "ABX9TyMmUFZ4qxWnw+aWstQqMWSH",
      "include_colab_link": true
    },
    "kernelspec": {
      "name": "python3",
      "display_name": "Python 3"
    },
    "language_info": {
      "name": "python"
    }
  },
  "cells": [
    {
      "cell_type": "markdown",
      "metadata": {
        "id": "view-in-github",
        "colab_type": "text"
      },
      "source": [
        "<a href=\"https://colab.research.google.com/github/nkbugalia/LearnAI/blob/main/ftoc.ipynb\" target=\"_parent\"><img src=\"https://colab.research.google.com/assets/colab-badge.svg\" alt=\"Open In Colab\"/></a>"
      ]
    },
    {
      "cell_type": "code",
      "source": [
        "# simple python program to convert fahrenheit to celcius\n",
        "\n",
        "import sys\n",
        "\n",
        "# Define a main() function\n",
        "def main():\n",
        "  # Get the temp in F from the command line.\n",
        "  if len(sys.argv) >= 2:\n",
        "    temp_f = float(sys.argv[1])  #convert argv string to float\n",
        "    temp_c = (temp_f-32) * 5/9\n",
        "    print(temp_f, \"°F is equal to \",temp_c,\"°C\")\n",
        "  else:\n",
        "    print(\"Something went wrong!!!\")\n",
        "\n",
        "# This is the standard boilerplate that calls the main() function.\n",
        "if __name__ == '__main__':\n",
        "  main()\n",
        ""
      ],
      "metadata": {
        "colab": {
          "base_uri": "https://localhost:8080/"
        },
        "id": "Fy2-FntouFT0",
        "outputId": "24e9d635-f4a0-415c-9059-6ce42d7157da"
      },
      "execution_count": 5,
      "outputs": [
        {
          "output_type": "stream",
          "name": "stdout",
          "text": [
            "Enter temperature in Fahrenheit: 112\n",
            "112.0°F is equal to 44.44444444444444°C\n"
          ]
        }
      ]
    }
  ]
}